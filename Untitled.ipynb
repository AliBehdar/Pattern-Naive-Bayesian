{
 "cells": [
  {
   "cell_type": "markdown",
   "id": "51c426e7",
   "metadata": {},
   "source": [
    "I have installed last vertion of acaconda in base(root) enviroment saand launch Jupyter notebook \n",
    "I have called some libraries, various Naive Bayes models, and the Python Textual Analysis Library (PTL) to perform data preprocessing."
   ]
  },
  {
   "cell_type": "code",
   "execution_count": 1,
   "id": "34f33c80",
   "metadata": {},
   "outputs": [],
   "source": [
    "from sklearn.naive_bayes import MultinomialNB,GaussianNB,BernoulliNB\n",
    "from sklearn.metrics import accuracy_score\n",
    "import os\n",
    "import pandas as pd\n",
    "from PIL import Image\n",
    "import numpy as np\n",
    "import pandas as pd"
   ]
  },
  {
   "cell_type": "markdown",
   "id": "e0dbe65d",
   "metadata": {},
   "source": [
    "Here code get the directory and then \n",
    "1. It resizes the images to the desired size (in this case, 13x13 pixels).\n",
    "2.Converts them to grayscale.\n",
    "3.Flattens the pixel values into a one-dimensional array for each image.\n",
    "4.Stores these flattened arrays in the image_data list.\n",
    "5.Converts the list of image arrays to a NumPy array.\n",
    "6.Creates a pandas DataFrame from the NumPy array and saves it as a CSV file.\n",
    "and I have commented any of this step in the beginning of their code \n",
    "in addition I have used LANCZOS but there is orther filter like ANTIALIAS so I perfer it because i got an error with ANTIALIAS "
   ]
  },
  {
   "cell_type": "code",
   "execution_count": 3,
   "id": "76f5d871",
   "metadata": {},
   "outputs": [],
   "source": [
    "input_dir = \"C:\\\\Users\\\\Lenovo\\\\Documents\\\\pyEx\\\\b\\\\trainsetB\"\n",
    "output_csv_file = \"output.csv\"\n",
    "\n",
    "# Create empty lists to store image data\n",
    "images = []\n",
    "\n",
    "for filename in os.listdir(input_dir):\n",
    "    if filename.endswith(\".jpg\"):\n",
    "        img = Image.open(os.path.join(input_dir, filename))\n",
    "        img = img.convert(\"L\")  # Convert to grayscale\n",
    "\n",
    "        # Resize the image to the desired size\n",
    "        target_size = (13, 13)\n",
    "        img = img.resize(target_size, Image.LANCZOS)  # Use LANCZOS resampling filter\n",
    "\n",
    "        # Flatten the pixel values and append to the list\n",
    "        img_array = np.array(img).flatten()\n",
    "        images.append(img_array)\n",
    "\n",
    "# Convert the list of image arrays to a NumPy array\n",
    "image_data = np.array(images)\n",
    "\n",
    "# Create a DataFrame and save it as a CSV file\n",
    "df = pd.DataFrame(image_data)\n",
    "df.to_csv(output_csv_file, index=False)\n"
   ]
  },
  {
   "cell_type": "markdown",
   "id": "9d60d64d",
   "metadata": {},
   "source": [
    "This code is also like previous one but for test data set"
   ]
  },
  {
   "cell_type": "code",
   "execution_count": 2,
   "id": "24213824",
   "metadata": {},
   "outputs": [],
   "source": [
    "input_dir = \"C:\\\\Users\\\\Lenovo\\\\Documents\\\\pyEx\\\\b\\\\testsetB\"\n",
    "output_csv_file = \"outputtest.csv\"\n",
    "\n",
    "# Create empty lists to store image data\n",
    "images = []\n",
    "\n",
    "for filename in os.listdir(input_dir):\n",
    "    if filename.endswith(\".jpg\"):\n",
    "        img = Image.open(os.path.join(input_dir, filename))\n",
    "        img = img.convert(\"L\")  # Convert to grayscale\n",
    "\n",
    "        # Resize the image to the desired size\n",
    "        target_size = (13, 13)\n",
    "        img = img.resize(target_size, Image.LANCZOS)  # Use LANCZOS resampling filter\n",
    "\n",
    "        # Flatten the pixel values and append to the list\n",
    "        img_array = np.array(img).flatten()\n",
    "        images.append(img_array)\n",
    "\n",
    "# Convert the list of image arrays to a NumPy array\n",
    "image_data = np.array(images)\n",
    "\n",
    "# Create a DataFrame and save it as a CSV file\n",
    "df = pd.DataFrame(image_data)\n",
    "df.to_csv(output_csv_file, index=False)\n"
   ]
  },
  {
   "cell_type": "markdown",
   "id": "ba98f76b",
   "metadata": {},
   "source": [
    "Here I got working directory for next step"
   ]
  },
  {
   "cell_type": "code",
   "execution_count": 12,
   "id": "6e2cd729",
   "metadata": {},
   "outputs": [
    {
     "name": "stdout",
     "output_type": "stream",
     "text": [
      "C:\\Users\\Lenovo\\Documents\\pyEx\\b\n"
     ]
    }
   ],
   "source": [
    "working_directory=os.getcwd()\n",
    "print (working_directory)"
   ]
  },
  {
   "cell_type": "markdown",
   "id": "cff8f6a6",
   "metadata": {},
   "source": [
    "In this step code read train and test data set whit cav format"
   ]
  },
  {
   "cell_type": "code",
   "execution_count": 14,
   "id": "d73172e0",
   "metadata": {},
   "outputs": [],
   "source": [
    "train=working_directory + '\\output.csv' \n",
    "test=working_directory + '\\outputtest.csv' \n",
    "train_data=pd.read_csv(train)\n",
    "test_data=pd.read_csv(test)"
   ]
  },
  {
   "cell_type": "markdown",
   "id": "6d4a14a2",
   "metadata": {},
   "source": [
    "Here code extracts the feature vectors and labels for training and testing from data stored in DataFrames.\n",
    "and displays the first few rows of the training data"
   ]
  },
  {
   "cell_type": "code",
   "execution_count": 15,
   "id": "208808b8",
   "metadata": {},
   "outputs": [
    {
     "data": {
      "text/html": [
       "<div>\n",
       "<style scoped>\n",
       "    .dataframe tbody tr th:only-of-type {\n",
       "        vertical-align: middle;\n",
       "    }\n",
       "\n",
       "    .dataframe tbody tr th {\n",
       "        vertical-align: top;\n",
       "    }\n",
       "\n",
       "    .dataframe thead th {\n",
       "        text-align: right;\n",
       "    }\n",
       "</style>\n",
       "<table border=\"1\" class=\"dataframe\">\n",
       "  <thead>\n",
       "    <tr style=\"text-align: right;\">\n",
       "      <th></th>\n",
       "      <th>0</th>\n",
       "      <th>1</th>\n",
       "      <th>2</th>\n",
       "      <th>3</th>\n",
       "      <th>4</th>\n",
       "      <th>5</th>\n",
       "      <th>6</th>\n",
       "      <th>7</th>\n",
       "      <th>8</th>\n",
       "      <th>9</th>\n",
       "      <th>...</th>\n",
       "      <th>159</th>\n",
       "      <th>160</th>\n",
       "      <th>161</th>\n",
       "      <th>162</th>\n",
       "      <th>163</th>\n",
       "      <th>164</th>\n",
       "      <th>165</th>\n",
       "      <th>166</th>\n",
       "      <th>167</th>\n",
       "      <th>168</th>\n",
       "    </tr>\n",
       "  </thead>\n",
       "  <tbody>\n",
       "    <tr>\n",
       "      <th>0</th>\n",
       "      <td>0</td>\n",
       "      <td>0</td>\n",
       "      <td>0</td>\n",
       "      <td>1</td>\n",
       "      <td>5</td>\n",
       "      <td>5</td>\n",
       "      <td>6</td>\n",
       "      <td>0</td>\n",
       "      <td>3</td>\n",
       "      <td>7</td>\n",
       "      <td>...</td>\n",
       "      <td>2</td>\n",
       "      <td>2</td>\n",
       "      <td>0</td>\n",
       "      <td>0</td>\n",
       "      <td>0</td>\n",
       "      <td>0</td>\n",
       "      <td>0</td>\n",
       "      <td>0</td>\n",
       "      <td>0</td>\n",
       "      <td>0</td>\n",
       "    </tr>\n",
       "    <tr>\n",
       "      <th>1</th>\n",
       "      <td>0</td>\n",
       "      <td>0</td>\n",
       "      <td>0</td>\n",
       "      <td>2</td>\n",
       "      <td>3</td>\n",
       "      <td>0</td>\n",
       "      <td>0</td>\n",
       "      <td>0</td>\n",
       "      <td>3</td>\n",
       "      <td>5</td>\n",
       "      <td>...</td>\n",
       "      <td>0</td>\n",
       "      <td>0</td>\n",
       "      <td>0</td>\n",
       "      <td>0</td>\n",
       "      <td>3</td>\n",
       "      <td>2</td>\n",
       "      <td>0</td>\n",
       "      <td>0</td>\n",
       "      <td>0</td>\n",
       "      <td>0</td>\n",
       "    </tr>\n",
       "    <tr>\n",
       "      <th>2</th>\n",
       "      <td>0</td>\n",
       "      <td>0</td>\n",
       "      <td>0</td>\n",
       "      <td>2</td>\n",
       "      <td>4</td>\n",
       "      <td>6</td>\n",
       "      <td>6</td>\n",
       "      <td>4</td>\n",
       "      <td>3</td>\n",
       "      <td>3</td>\n",
       "      <td>...</td>\n",
       "      <td>1</td>\n",
       "      <td>4</td>\n",
       "      <td>4</td>\n",
       "      <td>18</td>\n",
       "      <td>1</td>\n",
       "      <td>0</td>\n",
       "      <td>0</td>\n",
       "      <td>0</td>\n",
       "      <td>0</td>\n",
       "      <td>0</td>\n",
       "    </tr>\n",
       "    <tr>\n",
       "      <th>3</th>\n",
       "      <td>0</td>\n",
       "      <td>0</td>\n",
       "      <td>0</td>\n",
       "      <td>1</td>\n",
       "      <td>3</td>\n",
       "      <td>3</td>\n",
       "      <td>3</td>\n",
       "      <td>2</td>\n",
       "      <td>2</td>\n",
       "      <td>1</td>\n",
       "      <td>...</td>\n",
       "      <td>0</td>\n",
       "      <td>0</td>\n",
       "      <td>0</td>\n",
       "      <td>0</td>\n",
       "      <td>8</td>\n",
       "      <td>28</td>\n",
       "      <td>7</td>\n",
       "      <td>2</td>\n",
       "      <td>0</td>\n",
       "      <td>0</td>\n",
       "    </tr>\n",
       "    <tr>\n",
       "      <th>4</th>\n",
       "      <td>0</td>\n",
       "      <td>0</td>\n",
       "      <td>0</td>\n",
       "      <td>0</td>\n",
       "      <td>0</td>\n",
       "      <td>0</td>\n",
       "      <td>0</td>\n",
       "      <td>0</td>\n",
       "      <td>0</td>\n",
       "      <td>0</td>\n",
       "      <td>...</td>\n",
       "      <td>0</td>\n",
       "      <td>1</td>\n",
       "      <td>0</td>\n",
       "      <td>7</td>\n",
       "      <td>204</td>\n",
       "      <td>63</td>\n",
       "      <td>0</td>\n",
       "      <td>4</td>\n",
       "      <td>1</td>\n",
       "      <td>0</td>\n",
       "    </tr>\n",
       "  </tbody>\n",
       "</table>\n",
       "<p>5 rows × 169 columns</p>\n",
       "</div>"
      ],
      "text/plain": [
       "   0  1  2  3  4  5  6  7  8  9  ...  159  160  161  162  163  164  165  166  \\\n",
       "0  0  0  0  1  5  5  6  0  3  7  ...    2    2    0    0    0    0    0    0   \n",
       "1  0  0  0  2  3  0  0  0  3  5  ...    0    0    0    0    3    2    0    0   \n",
       "2  0  0  0  2  4  6  6  4  3  3  ...    1    4    4   18    1    0    0    0   \n",
       "3  0  0  0  1  3  3  3  2  2  1  ...    0    0    0    0    8   28    7    2   \n",
       "4  0  0  0  0  0  0  0  0  0  0  ...    0    1    0    7  204   63    0    4   \n",
       "\n",
       "   167  168  \n",
       "0    0    0  \n",
       "1    0    0  \n",
       "2    0    0  \n",
       "3    0    0  \n",
       "4    1    0  \n",
       "\n",
       "[5 rows x 169 columns]"
      ]
     },
     "execution_count": 15,
     "metadata": {},
     "output_type": "execute_result"
    }
   ],
   "source": [
    "X_train = train_data.iloc[:, 1:].values \n",
    "y_train = train_data.iloc[:, 0].values  \n",
    "\n",
    "X_test = test_data.iloc[:, 1:].values\n",
    "train_data.head()"
   ]
  },
  {
   "cell_type": "markdown",
   "id": "593ef8bc",
   "metadata": {},
   "source": [
    "This part is a common data preprocessing step in machine learning, which is known as data normalization or scaling to \n",
    "improve the performance and convergence of some learning algorithm"
   ]
  },
  {
   "cell_type": "code",
   "execution_count": 16,
   "id": "65750f45",
   "metadata": {},
   "outputs": [],
   "source": [
    "X_train = X_train / 255.0\n",
    "X_test = X_test / 255.0"
   ]
  },
  {
   "cell_type": "markdown",
   "id": "b2f25ad4",
   "metadata": {},
   "source": [
    "Here I creat 3 model of Naive Bayes models to be trained on dataset"
   ]
  },
  {
   "cell_type": "code",
   "execution_count": 17,
   "id": "4674a770",
   "metadata": {},
   "outputs": [],
   "source": [
    "model = MultinomialNB()\n",
    "model2=GaussianNB()\n",
    "model1=BernoulliNB()"
   ]
  },
  {
   "cell_type": "markdown",
   "id": "41dbff6a",
   "metadata": {},
   "source": [
    "So here I models are done be trianed"
   ]
  },
  {
   "cell_type": "code",
   "execution_count": 18,
   "id": "a2e3fa96",
   "metadata": {},
   "outputs": [
    {
     "data": {
      "text/html": [
       "<style>#sk-container-id-2 {color: black;}#sk-container-id-2 pre{padding: 0;}#sk-container-id-2 div.sk-toggleable {background-color: white;}#sk-container-id-2 label.sk-toggleable__label {cursor: pointer;display: block;width: 100%;margin-bottom: 0;padding: 0.3em;box-sizing: border-box;text-align: center;}#sk-container-id-2 label.sk-toggleable__label-arrow:before {content: \"▸\";float: left;margin-right: 0.25em;color: #696969;}#sk-container-id-2 label.sk-toggleable__label-arrow:hover:before {color: black;}#sk-container-id-2 div.sk-estimator:hover label.sk-toggleable__label-arrow:before {color: black;}#sk-container-id-2 div.sk-toggleable__content {max-height: 0;max-width: 0;overflow: hidden;text-align: left;background-color: #f0f8ff;}#sk-container-id-2 div.sk-toggleable__content pre {margin: 0.2em;color: black;border-radius: 0.25em;background-color: #f0f8ff;}#sk-container-id-2 input.sk-toggleable__control:checked~div.sk-toggleable__content {max-height: 200px;max-width: 100%;overflow: auto;}#sk-container-id-2 input.sk-toggleable__control:checked~label.sk-toggleable__label-arrow:before {content: \"▾\";}#sk-container-id-2 div.sk-estimator input.sk-toggleable__control:checked~label.sk-toggleable__label {background-color: #d4ebff;}#sk-container-id-2 div.sk-label input.sk-toggleable__control:checked~label.sk-toggleable__label {background-color: #d4ebff;}#sk-container-id-2 input.sk-hidden--visually {border: 0;clip: rect(1px 1px 1px 1px);clip: rect(1px, 1px, 1px, 1px);height: 1px;margin: -1px;overflow: hidden;padding: 0;position: absolute;width: 1px;}#sk-container-id-2 div.sk-estimator {font-family: monospace;background-color: #f0f8ff;border: 1px dotted black;border-radius: 0.25em;box-sizing: border-box;margin-bottom: 0.5em;}#sk-container-id-2 div.sk-estimator:hover {background-color: #d4ebff;}#sk-container-id-2 div.sk-parallel-item::after {content: \"\";width: 100%;border-bottom: 1px solid gray;flex-grow: 1;}#sk-container-id-2 div.sk-label:hover label.sk-toggleable__label {background-color: #d4ebff;}#sk-container-id-2 div.sk-serial::before {content: \"\";position: absolute;border-left: 1px solid gray;box-sizing: border-box;top: 0;bottom: 0;left: 50%;z-index: 0;}#sk-container-id-2 div.sk-serial {display: flex;flex-direction: column;align-items: center;background-color: white;padding-right: 0.2em;padding-left: 0.2em;position: relative;}#sk-container-id-2 div.sk-item {position: relative;z-index: 1;}#sk-container-id-2 div.sk-parallel {display: flex;align-items: stretch;justify-content: center;background-color: white;position: relative;}#sk-container-id-2 div.sk-item::before, #sk-container-id-2 div.sk-parallel-item::before {content: \"\";position: absolute;border-left: 1px solid gray;box-sizing: border-box;top: 0;bottom: 0;left: 50%;z-index: -1;}#sk-container-id-2 div.sk-parallel-item {display: flex;flex-direction: column;z-index: 1;position: relative;background-color: white;}#sk-container-id-2 div.sk-parallel-item:first-child::after {align-self: flex-end;width: 50%;}#sk-container-id-2 div.sk-parallel-item:last-child::after {align-self: flex-start;width: 50%;}#sk-container-id-2 div.sk-parallel-item:only-child::after {width: 0;}#sk-container-id-2 div.sk-dashed-wrapped {border: 1px dashed gray;margin: 0 0.4em 0.5em 0.4em;box-sizing: border-box;padding-bottom: 0.4em;background-color: white;}#sk-container-id-2 div.sk-label label {font-family: monospace;font-weight: bold;display: inline-block;line-height: 1.2em;}#sk-container-id-2 div.sk-label-container {text-align: center;}#sk-container-id-2 div.sk-container {/* jupyter's `normalize.less` sets `[hidden] { display: none; }` but bootstrap.min.css set `[hidden] { display: none !important; }` so we also need the `!important` here to be able to override the default hidden behavior on the sphinx rendered scikit-learn.org. See: https://github.com/scikit-learn/scikit-learn/issues/21755 */display: inline-block !important;position: relative;}#sk-container-id-2 div.sk-text-repr-fallback {display: none;}</style><div id=\"sk-container-id-2\" class=\"sk-top-container\"><div class=\"sk-text-repr-fallback\"><pre>GaussianNB()</pre><b>In a Jupyter environment, please rerun this cell to show the HTML representation or trust the notebook. <br />On GitHub, the HTML representation is unable to render, please try loading this page with nbviewer.org.</b></div><div class=\"sk-container\" hidden><div class=\"sk-item\"><div class=\"sk-estimator sk-toggleable\"><input class=\"sk-toggleable__control sk-hidden--visually\" id=\"sk-estimator-id-2\" type=\"checkbox\" checked><label for=\"sk-estimator-id-2\" class=\"sk-toggleable__label sk-toggleable__label-arrow\">GaussianNB</label><div class=\"sk-toggleable__content\"><pre>GaussianNB()</pre></div></div></div></div></div>"
      ],
      "text/plain": [
       "GaussianNB()"
      ]
     },
     "execution_count": 18,
     "metadata": {},
     "output_type": "execute_result"
    }
   ],
   "source": [
    "model.fit(X_train, y_train)\n",
    "model1.fit(X_train, y_train)\n",
    "model2.fit(X_train, y_train)"
   ]
  },
  {
   "cell_type": "markdown",
   "id": "65c2b21f",
   "metadata": {},
   "source": [
    "Here for any moled a predict will be provided"
   ]
  },
  {
   "cell_type": "code",
   "execution_count": 19,
   "id": "17114372",
   "metadata": {},
   "outputs": [],
   "source": [
    "y_pred = model.predict(X_test)\n",
    "y_pred1 = model1.predict(X_test)\n",
    "y_pred2 = model2.predict(X_test)"
   ]
  },
  {
   "cell_type": "markdown",
   "id": "77153a33",
   "metadata": {},
   "source": [
    "Here I test prediction of treaned model and reach to accuracy if them"
   ]
  },
  {
   "cell_type": "code",
   "execution_count": 20,
   "id": "bf44bd62",
   "metadata": {},
   "outputs": [
    {
     "name": "stdout",
     "output_type": "stream",
     "text": [
      "Accuracy of the model: 88.21%\n",
      "Accuracy of the model1: 93.37%\n",
      "Accuracy of the model2: 78.65%\n"
     ]
    }
   ],
   "source": [
    " y_test = test_data.iloc[:, 0].values\n",
    " accuracy = accuracy_score(y_test, y_pred)\n",
    " accuracy1 = accuracy_score(y_test, y_pred1)\n",
    " accuracy2 = accuracy_score(y_test, y_pred2)\n",
    " print(f'Accuracy of the model: {accuracy * 100:.2f}%')\n",
    " print(f'Accuracy of the model1: {accuracy1 * 100:.2f}%')\n",
    " print(f'Accuracy of the model2: {accuracy2 * 100:.2f}%')"
   ]
  }
 ],
 "metadata": {
  "kernelspec": {
   "display_name": "Python 3 (ipykernel)",
   "language": "python",
   "name": "python3"
  },
  "language_info": {
   "codemirror_mode": {
    "name": "ipython",
    "version": 3
   },
   "file_extension": ".py",
   "mimetype": "text/x-python",
   "name": "python",
   "nbconvert_exporter": "python",
   "pygments_lexer": "ipython3",
   "version": "3.10.13"
  }
 },
 "nbformat": 4,
 "nbformat_minor": 5
}
